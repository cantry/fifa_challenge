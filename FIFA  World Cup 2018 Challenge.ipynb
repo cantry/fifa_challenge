{
 "cells": [
  {
   "cell_type": "markdown",
   "metadata": {},
   "source": [
    "## Predicting the 2018 FIFA World Cup Winner\n",
    "In this Jupyter Notebook, we are going to develop a Machine Learning model to try to predict the outcomes of all games in World Cup 2018, which also means predicting the winner of the championship. \n",
    "\n",
    "We're going first to do some exploratory analysis on two datasets obtained from Kaggle. Then, we're going to do some feature engineering in order to select which features are the most relevant to the case in point, do some data manipulation, choose an ML model and finally deploy it on the dataset. Let's go!\n",
    "\n",
    "Load the data set\n",
    "we are considering two data set the resilt of the world cup which started from 1930\n"
   ]
  },
  {
   "cell_type": "code",
   "execution_count": 2,
   "metadata": {
    "collapsed": true
   },
   "outputs": [],
   "source": [
    "# Import packages\n",
    "import numpy as np\n",
    "import pandas as pd\n",
    "import matplotlib.pyplot as plt\n",
    "import seaborn as sns"
   ]
  },
  {
   "cell_type": "code",
   "execution_count": 3,
   "metadata": {
    "collapsed": true
   },
   "outputs": [],
   "source": [
    "# Read data files\n",
    "wc = pd.read_csv('data/World Cup 2018 Dataset.csv')\n",
    "results = pd.read_csv('data/results.csv')"
   ]
  },
  {
   "cell_type": "code",
   "execution_count": 4,
   "metadata": {
    "collapsed": false
   },
   "outputs": [
    {
     "data": {
      "text/plain": [
       "(33, 39082)"
      ]
     },
     "execution_count": 4,
     "metadata": {},
     "output_type": "execute_result"
    }
   ],
   "source": [
    "len(wc),len(results)"
   ]
  },
  {
   "cell_type": "code",
   "execution_count": 5,
   "metadata": {
    "collapsed": false,
    "scrolled": true
   },
   "outputs": [
    {
     "data": {
      "text/html": [
       "<div>\n",
       "<table border=\"1\" class=\"dataframe\">\n",
       "  <thead>\n",
       "    <tr style=\"text-align: right;\">\n",
       "      <th></th>\n",
       "      <th>Team</th>\n",
       "      <th>Group</th>\n",
       "      <th>Previous \n",
       "appearances</th>\n",
       "      <th>Previous \n",
       "titles</th>\n",
       "      <th>Previous\n",
       " finals</th>\n",
       "      <th>Previous\n",
       " semifinals</th>\n",
       "      <th>Current \n",
       "FIFA rank</th>\n",
       "      <th>First match \n",
       "against</th>\n",
       "      <th>Match index</th>\n",
       "      <th>history with \n",
       "first opponent\n",
       " W-L</th>\n",
       "      <th>history with\n",
       " first opponent\n",
       " goals</th>\n",
       "      <th>Second match\n",
       " against</th>\n",
       "      <th>Match index.1</th>\n",
       "      <th>history with\n",
       " second opponent\n",
       " W-L</th>\n",
       "      <th>history with\n",
       " second opponent\n",
       " goals</th>\n",
       "      <th>Third match\n",
       " against</th>\n",
       "      <th>Match index.2</th>\n",
       "      <th>history with\n",
       " third opponent\n",
       " W-L</th>\n",
       "      <th>history with\n",
       " third opponent\n",
       " goals</th>\n",
       "      <th>Unnamed: 19</th>\n",
       "    </tr>\n",
       "  </thead>\n",
       "  <tbody>\n",
       "    <tr>\n",
       "      <th>0</th>\n",
       "      <td>Russia</td>\n",
       "      <td>A</td>\n",
       "      <td>10.0</td>\n",
       "      <td>0.0</td>\n",
       "      <td>0.0</td>\n",
       "      <td>1.0</td>\n",
       "      <td>65.0</td>\n",
       "      <td>Saudi Arabia</td>\n",
       "      <td>1.0</td>\n",
       "      <td>-1.0</td>\n",
       "      <td>-2.0</td>\n",
       "      <td>Egypt</td>\n",
       "      <td>17.0</td>\n",
       "      <td>NaN</td>\n",
       "      <td>NaN</td>\n",
       "      <td>Uruguay</td>\n",
       "      <td>33.0</td>\n",
       "      <td>0.0</td>\n",
       "      <td>0.0</td>\n",
       "      <td>NaN</td>\n",
       "    </tr>\n",
       "    <tr>\n",
       "      <th>1</th>\n",
       "      <td>Saudi Arabia</td>\n",
       "      <td>A</td>\n",
       "      <td>4.0</td>\n",
       "      <td>0.0</td>\n",
       "      <td>0.0</td>\n",
       "      <td>0.0</td>\n",
       "      <td>63.0</td>\n",
       "      <td>Russia</td>\n",
       "      <td>1.0</td>\n",
       "      <td>1.0</td>\n",
       "      <td>2.0</td>\n",
       "      <td>Uruguay</td>\n",
       "      <td>18.0</td>\n",
       "      <td>1.0</td>\n",
       "      <td>1.0</td>\n",
       "      <td>Egypt</td>\n",
       "      <td>34.0</td>\n",
       "      <td>-5.0</td>\n",
       "      <td>-5.0</td>\n",
       "      <td>NaN</td>\n",
       "    </tr>\n",
       "    <tr>\n",
       "      <th>2</th>\n",
       "      <td>Egypt</td>\n",
       "      <td>A</td>\n",
       "      <td>2.0</td>\n",
       "      <td>0.0</td>\n",
       "      <td>0.0</td>\n",
       "      <td>0.0</td>\n",
       "      <td>31.0</td>\n",
       "      <td>Uruguay</td>\n",
       "      <td>2.0</td>\n",
       "      <td>-1.0</td>\n",
       "      <td>-2.0</td>\n",
       "      <td>Russia</td>\n",
       "      <td>17.0</td>\n",
       "      <td>NaN</td>\n",
       "      <td>NaN</td>\n",
       "      <td>Saudi Arabia</td>\n",
       "      <td>34.0</td>\n",
       "      <td>5.0</td>\n",
       "      <td>5.0</td>\n",
       "      <td>NaN</td>\n",
       "    </tr>\n",
       "    <tr>\n",
       "      <th>3</th>\n",
       "      <td>Uruguay</td>\n",
       "      <td>A</td>\n",
       "      <td>12.0</td>\n",
       "      <td>2.0</td>\n",
       "      <td>2.0</td>\n",
       "      <td>5.0</td>\n",
       "      <td>21.0</td>\n",
       "      <td>Egypt</td>\n",
       "      <td>2.0</td>\n",
       "      <td>1.0</td>\n",
       "      <td>2.0</td>\n",
       "      <td>Saudi Arabia</td>\n",
       "      <td>18.0</td>\n",
       "      <td>-1.0</td>\n",
       "      <td>-1.0</td>\n",
       "      <td>Russia</td>\n",
       "      <td>33.0</td>\n",
       "      <td>0.0</td>\n",
       "      <td>0.0</td>\n",
       "      <td>NaN</td>\n",
       "    </tr>\n",
       "    <tr>\n",
       "      <th>4</th>\n",
       "      <td>Porugal</td>\n",
       "      <td>B</td>\n",
       "      <td>6.0</td>\n",
       "      <td>0.0</td>\n",
       "      <td>0.0</td>\n",
       "      <td>2.0</td>\n",
       "      <td>3.0</td>\n",
       "      <td>Spain</td>\n",
       "      <td>3.0</td>\n",
       "      <td>-12.0</td>\n",
       "      <td>-31.0</td>\n",
       "      <td>Morocco</td>\n",
       "      <td>19.0</td>\n",
       "      <td>-1.0</td>\n",
       "      <td>-2.0</td>\n",
       "      <td>Iran</td>\n",
       "      <td>35.0</td>\n",
       "      <td>2.0</td>\n",
       "      <td>5.0</td>\n",
       "      <td>NaN</td>\n",
       "    </tr>\n",
       "  </tbody>\n",
       "</table>\n",
       "</div>"
      ],
      "text/plain": [
       "           Team Group  Previous \\nappearances  Previous \\ntitles  \\\n",
       "0        Russia     A                    10.0                0.0   \n",
       "1  Saudi Arabia     A                     4.0                0.0   \n",
       "2         Egypt     A                     2.0                0.0   \n",
       "3       Uruguay     A                    12.0                2.0   \n",
       "4       Porugal     B                     6.0                0.0   \n",
       "\n",
       "   Previous\\n finals  Previous\\n semifinals  Current \\nFIFA rank  \\\n",
       "0                0.0                    1.0                 65.0   \n",
       "1                0.0                    0.0                 63.0   \n",
       "2                0.0                    0.0                 31.0   \n",
       "3                2.0                    5.0                 21.0   \n",
       "4                0.0                    2.0                  3.0   \n",
       "\n",
       "  First match \\nagainst  Match index  history with \\nfirst opponent\\n W-L  \\\n",
       "0          Saudi Arabia          1.0                                 -1.0   \n",
       "1                Russia          1.0                                  1.0   \n",
       "2               Uruguay          2.0                                 -1.0   \n",
       "3                 Egypt          2.0                                  1.0   \n",
       "4                 Spain          3.0                                -12.0   \n",
       "\n",
       "   history with\\n first opponent\\n goals Second match\\n against  \\\n",
       "0                                   -2.0                  Egypt   \n",
       "1                                    2.0                Uruguay   \n",
       "2                                   -2.0                 Russia   \n",
       "3                                    2.0           Saudi Arabia   \n",
       "4                                  -31.0                Morocco   \n",
       "\n",
       "   Match index.1  history with\\n second opponent\\n W-L  \\\n",
       "0           17.0                                   NaN   \n",
       "1           18.0                                   1.0   \n",
       "2           17.0                                   NaN   \n",
       "3           18.0                                  -1.0   \n",
       "4           19.0                                  -1.0   \n",
       "\n",
       "   history with\\n second opponent\\n goals Third match\\n against  \\\n",
       "0                                     NaN               Uruguay   \n",
       "1                                     1.0                 Egypt   \n",
       "2                                     NaN          Saudi Arabia   \n",
       "3                                    -1.0                Russia   \n",
       "4                                    -2.0                  Iran   \n",
       "\n",
       "   Match index.2  history with\\n third opponent\\n W-L  \\\n",
       "0           33.0                                  0.0   \n",
       "1           34.0                                 -5.0   \n",
       "2           34.0                                  5.0   \n",
       "3           33.0                                  0.0   \n",
       "4           35.0                                  2.0   \n",
       "\n",
       "   history with\\n third opponent\\n goals  Unnamed: 19  \n",
       "0                                    0.0          NaN  \n",
       "1                                   -5.0          NaN  \n",
       "2                                    5.0          NaN  \n",
       "3                                    0.0          NaN  \n",
       "4                                    5.0          NaN  "
      ]
     },
     "execution_count": 5,
     "metadata": {},
     "output_type": "execute_result"
    }
   ],
   "source": [
    "wc.head()"
   ]
  },
  {
   "cell_type": "code",
   "execution_count": 6,
   "metadata": {
    "collapsed": false
   },
   "outputs": [
    {
     "data": {
      "text/html": [
       "<div>\n",
       "<table border=\"1\" class=\"dataframe\">\n",
       "  <thead>\n",
       "    <tr style=\"text-align: right;\">\n",
       "      <th></th>\n",
       "      <th>date</th>\n",
       "      <th>home_team</th>\n",
       "      <th>away_team</th>\n",
       "      <th>home_score</th>\n",
       "      <th>away_score</th>\n",
       "      <th>tournament</th>\n",
       "      <th>city</th>\n",
       "      <th>country</th>\n",
       "      <th>neutral</th>\n",
       "    </tr>\n",
       "  </thead>\n",
       "  <tbody>\n",
       "    <tr>\n",
       "      <th>0</th>\n",
       "      <td>1872-11-30</td>\n",
       "      <td>Scotland</td>\n",
       "      <td>England</td>\n",
       "      <td>0</td>\n",
       "      <td>0</td>\n",
       "      <td>Friendly</td>\n",
       "      <td>Glasgow</td>\n",
       "      <td>Scotland</td>\n",
       "      <td>False</td>\n",
       "    </tr>\n",
       "    <tr>\n",
       "      <th>1</th>\n",
       "      <td>1873-03-08</td>\n",
       "      <td>England</td>\n",
       "      <td>Scotland</td>\n",
       "      <td>4</td>\n",
       "      <td>2</td>\n",
       "      <td>Friendly</td>\n",
       "      <td>London</td>\n",
       "      <td>England</td>\n",
       "      <td>False</td>\n",
       "    </tr>\n",
       "    <tr>\n",
       "      <th>2</th>\n",
       "      <td>1874-03-07</td>\n",
       "      <td>Scotland</td>\n",
       "      <td>England</td>\n",
       "      <td>2</td>\n",
       "      <td>1</td>\n",
       "      <td>Friendly</td>\n",
       "      <td>Glasgow</td>\n",
       "      <td>Scotland</td>\n",
       "      <td>False</td>\n",
       "    </tr>\n",
       "    <tr>\n",
       "      <th>3</th>\n",
       "      <td>1875-03-06</td>\n",
       "      <td>England</td>\n",
       "      <td>Scotland</td>\n",
       "      <td>2</td>\n",
       "      <td>2</td>\n",
       "      <td>Friendly</td>\n",
       "      <td>London</td>\n",
       "      <td>England</td>\n",
       "      <td>False</td>\n",
       "    </tr>\n",
       "    <tr>\n",
       "      <th>4</th>\n",
       "      <td>1876-03-04</td>\n",
       "      <td>Scotland</td>\n",
       "      <td>England</td>\n",
       "      <td>3</td>\n",
       "      <td>0</td>\n",
       "      <td>Friendly</td>\n",
       "      <td>Glasgow</td>\n",
       "      <td>Scotland</td>\n",
       "      <td>False</td>\n",
       "    </tr>\n",
       "  </tbody>\n",
       "</table>\n",
       "</div>"
      ],
      "text/plain": [
       "         date home_team away_team  home_score  away_score tournament     city  \\\n",
       "0  1872-11-30  Scotland   England           0           0   Friendly  Glasgow   \n",
       "1  1873-03-08   England  Scotland           4           2   Friendly   London   \n",
       "2  1874-03-07  Scotland   England           2           1   Friendly  Glasgow   \n",
       "3  1875-03-06   England  Scotland           2           2   Friendly   London   \n",
       "4  1876-03-04  Scotland   England           3           0   Friendly  Glasgow   \n",
       "\n",
       "    country neutral  \n",
       "0  Scotland   False  \n",
       "1   England   False  \n",
       "2  Scotland   False  \n",
       "3   England   False  \n",
       "4  Scotland   False  "
      ]
     },
     "execution_count": 6,
     "metadata": {},
     "output_type": "execute_result"
    }
   ],
   "source": [
    "results.head()"
   ]
  },
  {
   "cell_type": "markdown",
   "metadata": {},
   "source": [
    "### 2) Exploring the data\n"
   ]
  },
  {
   "cell_type": "code",
   "execution_count": 7,
   "metadata": {
    "collapsed": false
   },
   "outputs": [
    {
     "data": {
      "text/html": [
       "<div>\n",
       "<table border=\"1\" class=\"dataframe\">\n",
       "  <thead>\n",
       "    <tr style=\"text-align: right;\">\n",
       "      <th></th>\n",
       "      <th>date</th>\n",
       "      <th>home_team</th>\n",
       "      <th>away_team</th>\n",
       "      <th>home_score</th>\n",
       "      <th>away_score</th>\n",
       "      <th>tournament</th>\n",
       "      <th>city</th>\n",
       "      <th>country</th>\n",
       "      <th>neutral</th>\n",
       "      <th>winning_team</th>\n",
       "      <th>goal_difference</th>\n",
       "    </tr>\n",
       "  </thead>\n",
       "  <tbody>\n",
       "    <tr>\n",
       "      <th>0</th>\n",
       "      <td>1872-11-30</td>\n",
       "      <td>Scotland</td>\n",
       "      <td>England</td>\n",
       "      <td>0</td>\n",
       "      <td>0</td>\n",
       "      <td>Friendly</td>\n",
       "      <td>Glasgow</td>\n",
       "      <td>Scotland</td>\n",
       "      <td>False</td>\n",
       "      <td>Tie</td>\n",
       "      <td>0</td>\n",
       "    </tr>\n",
       "    <tr>\n",
       "      <th>1</th>\n",
       "      <td>1873-03-08</td>\n",
       "      <td>England</td>\n",
       "      <td>Scotland</td>\n",
       "      <td>4</td>\n",
       "      <td>2</td>\n",
       "      <td>Friendly</td>\n",
       "      <td>London</td>\n",
       "      <td>England</td>\n",
       "      <td>False</td>\n",
       "      <td>England</td>\n",
       "      <td>2</td>\n",
       "    </tr>\n",
       "    <tr>\n",
       "      <th>2</th>\n",
       "      <td>1874-03-07</td>\n",
       "      <td>Scotland</td>\n",
       "      <td>England</td>\n",
       "      <td>2</td>\n",
       "      <td>1</td>\n",
       "      <td>Friendly</td>\n",
       "      <td>Glasgow</td>\n",
       "      <td>Scotland</td>\n",
       "      <td>False</td>\n",
       "      <td>Scotland</td>\n",
       "      <td>1</td>\n",
       "    </tr>\n",
       "    <tr>\n",
       "      <th>3</th>\n",
       "      <td>1875-03-06</td>\n",
       "      <td>England</td>\n",
       "      <td>Scotland</td>\n",
       "      <td>2</td>\n",
       "      <td>2</td>\n",
       "      <td>Friendly</td>\n",
       "      <td>London</td>\n",
       "      <td>England</td>\n",
       "      <td>False</td>\n",
       "      <td>Tie</td>\n",
       "      <td>0</td>\n",
       "    </tr>\n",
       "    <tr>\n",
       "      <th>4</th>\n",
       "      <td>1876-03-04</td>\n",
       "      <td>Scotland</td>\n",
       "      <td>England</td>\n",
       "      <td>3</td>\n",
       "      <td>0</td>\n",
       "      <td>Friendly</td>\n",
       "      <td>Glasgow</td>\n",
       "      <td>Scotland</td>\n",
       "      <td>False</td>\n",
       "      <td>Scotland</td>\n",
       "      <td>3</td>\n",
       "    </tr>\n",
       "  </tbody>\n",
       "</table>\n",
       "</div>"
      ],
      "text/plain": [
       "         date home_team away_team  home_score  away_score tournament     city  \\\n",
       "0  1872-11-30  Scotland   England           0           0   Friendly  Glasgow   \n",
       "1  1873-03-08   England  Scotland           4           2   Friendly   London   \n",
       "2  1874-03-07  Scotland   England           2           1   Friendly  Glasgow   \n",
       "3  1875-03-06   England  Scotland           2           2   Friendly   London   \n",
       "4  1876-03-04  Scotland   England           3           0   Friendly  Glasgow   \n",
       "\n",
       "    country neutral winning_team  goal_difference  \n",
       "0  Scotland   False          Tie                0  \n",
       "1   England   False      England                2  \n",
       "2  Scotland   False     Scotland                1  \n",
       "3   England   False          Tie                0  \n",
       "4  Scotland   False     Scotland                3  "
      ]
     },
     "execution_count": 7,
     "metadata": {},
     "output_type": "execute_result"
    }
   ],
   "source": [
    "# Adding new column for winner of each match\n",
    "winner = []\n",
    "for i in range(len(results['home_team'])):\n",
    "    if results['home_score'][i] > results['away_score'][i]:\n",
    "        winner.append(results['home_team'][i])\n",
    "    elif results['home_score'][i] < results['away_score'][i]:\n",
    "        winner.append(results['away_team'][i])\n",
    "    else:\n",
    "        winner.append('Tie')\n",
    "results['winning_team'] = winner\n",
    "\n",
    "# Adding new column for goal difference in matches\n",
    "results['goal_difference'] = np.absolute(results['home_score'] - results['away_score'])\n",
    "\n",
    "results.head()"
   ]
  },
  {
   "cell_type": "markdown",
   "metadata": {},
   "source": [
    "Getting win rates for every country that will participate in the World Cup should be a useful information for our analysis. Maybe we can use these winning rates to predict the most likely outcomes of each match in the tournament?\n",
    "\n",
    "However, there are many features in this dataset that won't help. The World Cup is always held in one place (in this year, Russia), so the location of previous matches won't add much to our analysis. The column 'tournament' will also be of little help, since all matches in which we are going to apply the model will be 'FIFA World Cup'. Thus, we can start defining more clearly our model's scope and limitations."
   ]
  },
  {
   "cell_type": "markdown",
   "metadata": {},
   "source": [
    "### 3) Defining the project\n",
    "\n",
    "**Objective**: to create a Machine Learning model capable of predicting the outcomes of football games in the 2018 FIFA World Cup.\n",
    "\n",
    "**Features**: Results of historical matches since the beginning of the championship (1930) for all participating teams.\n"
   ]
  },
  {
   "cell_type": "markdown",
   "metadata": {},
   "source": [
    "#### 3.1) Narrowing the 2018 World Cup participants"
   ]
  },
  {
   "cell_type": "code",
   "execution_count": 21,
   "metadata": {
    "collapsed": false
   },
   "outputs": [
    {
     "data": {
      "text/plain": [
       "date               12068\n",
       "home_team          12068\n",
       "away_team          12068\n",
       "home_score         12068\n",
       "away_score         12068\n",
       "tournament         12068\n",
       "city               12068\n",
       "country            12068\n",
       "neutral            12068\n",
       "winning_team       12068\n",
       "goal_difference    12068\n",
       "dtype: int64"
      ]
     },
     "execution_count": 21,
     "metadata": {},
     "output_type": "execute_result"
    }
   ],
   "source": [
    "# Create a DF with all participating teams\n",
    "last_16=[\"Uruguay\",\n",
    "\"Russia\",\n",
    "\"Spain\", \n",
    "\"Portugal\",\n",
    "\"France\",\n",
    "\"Denmark\" ,\n",
    "\"Croatia\" ,\n",
    "\"Argentina\", \n",
    "\"Brazil\", \n",
    "\"Switzerland\",\n",
    "\"Sweden\" ,\n",
    "\"Mexico\", \n",
    "\"Belgium\" ,\n",
    "\"England\", \n",
    "\"Colombia\", \n",
    "\"Japan\"]\n",
    "\n",
    "\n",
    "\n",
    "# Filter the 'results' dataframe to show only teams in this years' world cup, from 1930 onwards\n",
    "df_teams_home = results[results['home_team'].isin(last_16)]\n",
    "df_teams_away = results[results['away_team'].isin(last_16)]\n",
    "df_teams = pd.concat((df_teams_home, df_teams_away))\n",
    "df_teams.drop_duplicates()\n",
    "df_teams.count()\n"
   ]
  },
  {
   "cell_type": "code",
   "execution_count": 9,
   "metadata": {
    "collapsed": false
   },
   "outputs": [
    {
     "data": {
      "text/html": [
       "<div>\n",
       "<table border=\"1\" class=\"dataframe\">\n",
       "  <thead>\n",
       "    <tr style=\"text-align: right;\">\n",
       "      <th></th>\n",
       "      <th>date</th>\n",
       "      <th>home_team</th>\n",
       "      <th>away_team</th>\n",
       "      <th>home_score</th>\n",
       "      <th>away_score</th>\n",
       "      <th>tournament</th>\n",
       "      <th>city</th>\n",
       "      <th>country</th>\n",
       "      <th>neutral</th>\n",
       "      <th>winning_team</th>\n",
       "      <th>goal_difference</th>\n",
       "    </tr>\n",
       "  </thead>\n",
       "  <tbody>\n",
       "    <tr>\n",
       "      <th>1</th>\n",
       "      <td>1873-03-08</td>\n",
       "      <td>England</td>\n",
       "      <td>Scotland</td>\n",
       "      <td>4</td>\n",
       "      <td>2</td>\n",
       "      <td>Friendly</td>\n",
       "      <td>London</td>\n",
       "      <td>England</td>\n",
       "      <td>False</td>\n",
       "      <td>England</td>\n",
       "      <td>2</td>\n",
       "    </tr>\n",
       "    <tr>\n",
       "      <th>3</th>\n",
       "      <td>1875-03-06</td>\n",
       "      <td>England</td>\n",
       "      <td>Scotland</td>\n",
       "      <td>2</td>\n",
       "      <td>2</td>\n",
       "      <td>Friendly</td>\n",
       "      <td>London</td>\n",
       "      <td>England</td>\n",
       "      <td>False</td>\n",
       "      <td>Tie</td>\n",
       "      <td>0</td>\n",
       "    </tr>\n",
       "    <tr>\n",
       "      <th>6</th>\n",
       "      <td>1877-03-03</td>\n",
       "      <td>England</td>\n",
       "      <td>Scotland</td>\n",
       "      <td>1</td>\n",
       "      <td>3</td>\n",
       "      <td>Friendly</td>\n",
       "      <td>London</td>\n",
       "      <td>England</td>\n",
       "      <td>False</td>\n",
       "      <td>Scotland</td>\n",
       "      <td>2</td>\n",
       "    </tr>\n",
       "    <tr>\n",
       "      <th>10</th>\n",
       "      <td>1879-01-18</td>\n",
       "      <td>England</td>\n",
       "      <td>Wales</td>\n",
       "      <td>2</td>\n",
       "      <td>1</td>\n",
       "      <td>Friendly</td>\n",
       "      <td>London</td>\n",
       "      <td>England</td>\n",
       "      <td>False</td>\n",
       "      <td>England</td>\n",
       "      <td>1</td>\n",
       "    </tr>\n",
       "    <tr>\n",
       "      <th>11</th>\n",
       "      <td>1879-04-05</td>\n",
       "      <td>England</td>\n",
       "      <td>Scotland</td>\n",
       "      <td>5</td>\n",
       "      <td>4</td>\n",
       "      <td>Friendly</td>\n",
       "      <td>London</td>\n",
       "      <td>England</td>\n",
       "      <td>False</td>\n",
       "      <td>England</td>\n",
       "      <td>1</td>\n",
       "    </tr>\n",
       "  </tbody>\n",
       "</table>\n",
       "</div>"
      ],
      "text/plain": [
       "          date home_team away_team  home_score  away_score tournament    city  \\\n",
       "1   1873-03-08   England  Scotland           4           2   Friendly  London   \n",
       "3   1875-03-06   England  Scotland           2           2   Friendly  London   \n",
       "6   1877-03-03   England  Scotland           1           3   Friendly  London   \n",
       "10  1879-01-18   England     Wales           2           1   Friendly  London   \n",
       "11  1879-04-05   England  Scotland           5           4   Friendly  London   \n",
       "\n",
       "    country neutral winning_team  goal_difference  \n",
       "1   England   False      England                2  \n",
       "3   England   False          Tie                0  \n",
       "6   England   False     Scotland                2  \n",
       "10  England   False      England                1  \n",
       "11  England   False      England                1  "
      ]
     },
     "execution_count": 9,
     "metadata": {},
     "output_type": "execute_result"
    }
   ],
   "source": [
    "df_teams.head()"
   ]
  },
  {
   "cell_type": "markdown",
   "metadata": {},
   "source": [
    "#### 3.2) Manipulating the data\n",
    "\n",
    "Subset the data for world cup matched only which started from 1930 on wards\n"
   ]
  },
  {
   "cell_type": "code",
   "execution_count": 22,
   "metadata": {
    "collapsed": false
   },
   "outputs": [
    {
     "data": {
      "text/html": [
       "<div>\n",
       "<table border=\"1\" class=\"dataframe\">\n",
       "  <thead>\n",
       "    <tr style=\"text-align: right;\">\n",
       "      <th></th>\n",
       "      <th>date</th>\n",
       "      <th>home_team</th>\n",
       "      <th>away_team</th>\n",
       "      <th>home_score</th>\n",
       "      <th>away_score</th>\n",
       "      <th>tournament</th>\n",
       "      <th>city</th>\n",
       "      <th>country</th>\n",
       "      <th>neutral</th>\n",
       "      <th>winning_team</th>\n",
       "      <th>goal_difference</th>\n",
       "      <th>match_year</th>\n",
       "    </tr>\n",
       "  </thead>\n",
       "  <tbody>\n",
       "    <tr>\n",
       "      <th>1230</th>\n",
       "      <td>1930-01-01</td>\n",
       "      <td>Spain</td>\n",
       "      <td>Czechoslovakia</td>\n",
       "      <td>1</td>\n",
       "      <td>0</td>\n",
       "      <td>Friendly</td>\n",
       "      <td>Barcelona</td>\n",
       "      <td>Spain</td>\n",
       "      <td>False</td>\n",
       "      <td>Spain</td>\n",
       "      <td>1</td>\n",
       "      <td>1930</td>\n",
       "    </tr>\n",
       "    <tr>\n",
       "      <th>1231</th>\n",
       "      <td>1930-01-12</td>\n",
       "      <td>Portugal</td>\n",
       "      <td>Czechoslovakia</td>\n",
       "      <td>1</td>\n",
       "      <td>0</td>\n",
       "      <td>Friendly</td>\n",
       "      <td>Lisbon</td>\n",
       "      <td>Portugal</td>\n",
       "      <td>False</td>\n",
       "      <td>Portugal</td>\n",
       "      <td>1</td>\n",
       "      <td>1930</td>\n",
       "    </tr>\n",
       "    <tr>\n",
       "      <th>1237</th>\n",
       "      <td>1930-02-23</td>\n",
       "      <td>Portugal</td>\n",
       "      <td>France</td>\n",
       "      <td>2</td>\n",
       "      <td>0</td>\n",
       "      <td>Friendly</td>\n",
       "      <td>Porto</td>\n",
       "      <td>Portugal</td>\n",
       "      <td>False</td>\n",
       "      <td>Portugal</td>\n",
       "      <td>2</td>\n",
       "      <td>1930</td>\n",
       "    </tr>\n",
       "    <tr>\n",
       "      <th>1240</th>\n",
       "      <td>1930-03-23</td>\n",
       "      <td>France</td>\n",
       "      <td>Switzerland</td>\n",
       "      <td>3</td>\n",
       "      <td>3</td>\n",
       "      <td>Friendly</td>\n",
       "      <td>Colombes</td>\n",
       "      <td>France</td>\n",
       "      <td>False</td>\n",
       "      <td>Tie</td>\n",
       "      <td>0</td>\n",
       "      <td>1930</td>\n",
       "    </tr>\n",
       "    <tr>\n",
       "      <th>1241</th>\n",
       "      <td>1930-04-05</td>\n",
       "      <td>England</td>\n",
       "      <td>Scotland</td>\n",
       "      <td>5</td>\n",
       "      <td>2</td>\n",
       "      <td>British Championship</td>\n",
       "      <td>London</td>\n",
       "      <td>England</td>\n",
       "      <td>False</td>\n",
       "      <td>England</td>\n",
       "      <td>3</td>\n",
       "      <td>1930</td>\n",
       "    </tr>\n",
       "  </tbody>\n",
       "</table>\n",
       "</div>"
      ],
      "text/plain": [
       "            date home_team       away_team  home_score  away_score  \\\n",
       "1230  1930-01-01     Spain  Czechoslovakia           1           0   \n",
       "1231  1930-01-12  Portugal  Czechoslovakia           1           0   \n",
       "1237  1930-02-23  Portugal          France           2           0   \n",
       "1240  1930-03-23    France     Switzerland           3           3   \n",
       "1241  1930-04-05   England        Scotland           5           2   \n",
       "\n",
       "                tournament       city   country neutral winning_team  \\\n",
       "1230              Friendly  Barcelona     Spain   False        Spain   \n",
       "1231              Friendly     Lisbon  Portugal   False     Portugal   \n",
       "1237              Friendly      Porto  Portugal   False     Portugal   \n",
       "1240              Friendly   Colombes    France   False          Tie   \n",
       "1241  British Championship     London   England   False      England   \n",
       "\n",
       "      goal_difference  match_year  \n",
       "1230                1        1930  \n",
       "1231                1        1930  \n",
       "1237                2        1930  \n",
       "1240                0        1930  \n",
       "1241                3        1930  "
      ]
     },
     "execution_count": 22,
     "metadata": {},
     "output_type": "execute_result"
    }
   ],
   "source": [
    "# Loop for creating a new column 'year'\n",
    "year = []\n",
    "for row in df_teams['date']:\n",
    "    year.append(int(row[:4]))\n",
    "df_teams['match_year'] = year\n",
    "\n",
    "\n",
    "df_fifa_world_cup = df_teams[df_teams.match_year >= 1930]\n",
    "df_fifa_world_cup.head()"
   ]
  },
  {
   "cell_type": "code",
   "execution_count": 11,
   "metadata": {
    "collapsed": false
   },
   "outputs": [
    {
     "data": {
      "text/html": [
       "<div>\n",
       "<table border=\"1\" class=\"dataframe\">\n",
       "  <thead>\n",
       "    <tr style=\"text-align: right;\">\n",
       "      <th></th>\n",
       "      <th>home_team</th>\n",
       "      <th>away_team</th>\n",
       "      <th>neutral</th>\n",
       "      <th>winning_team</th>\n",
       "    </tr>\n",
       "  </thead>\n",
       "  <tbody>\n",
       "    <tr>\n",
       "      <th>1230</th>\n",
       "      <td>Spain</td>\n",
       "      <td>Czechoslovakia</td>\n",
       "      <td>False</td>\n",
       "      <td>Spain</td>\n",
       "    </tr>\n",
       "    <tr>\n",
       "      <th>1231</th>\n",
       "      <td>Portugal</td>\n",
       "      <td>Czechoslovakia</td>\n",
       "      <td>False</td>\n",
       "      <td>Portugal</td>\n",
       "    </tr>\n",
       "    <tr>\n",
       "      <th>1237</th>\n",
       "      <td>Portugal</td>\n",
       "      <td>France</td>\n",
       "      <td>False</td>\n",
       "      <td>Portugal</td>\n",
       "    </tr>\n",
       "    <tr>\n",
       "      <th>1240</th>\n",
       "      <td>France</td>\n",
       "      <td>Switzerland</td>\n",
       "      <td>False</td>\n",
       "      <td>Tie</td>\n",
       "    </tr>\n",
       "    <tr>\n",
       "      <th>1241</th>\n",
       "      <td>England</td>\n",
       "      <td>Scotland</td>\n",
       "      <td>False</td>\n",
       "      <td>England</td>\n",
       "    </tr>\n",
       "  </tbody>\n",
       "</table>\n",
       "</div>"
      ],
      "text/plain": [
       "     home_team       away_team neutral winning_team\n",
       "1230     Spain  Czechoslovakia   False        Spain\n",
       "1231  Portugal  Czechoslovakia   False     Portugal\n",
       "1237  Portugal          France   False     Portugal\n",
       "1240    France     Switzerland   False          Tie\n",
       "1241   England        Scotland   False      England"
      ]
     },
     "execution_count": 11,
     "metadata": {},
     "output_type": "execute_result"
    }
   ],
   "source": [
    "df_fifa_world_cup = df_fifa_world_cup.drop(['date', 'tournament', 'city', 'country', 'goal_difference', 'match_year',\"home_score\",\n",
    "                             \"away_score\"], axis=1)\n",
    "df_fifa_world_cup.head(5)"
   ]
  },
  {
   "cell_type": "markdown",
   "metadata": {},
   "source": [
    "#### 3.3) Building the ML model\n",
    "\n",
    "First, let's modify the \"Y\" (prediction label) in order to simplify our model's processing. The winning_team column will show \"2\" if the home team has won, \"1\" if it was a tie, and \"0\" if the away team has won."
   ]
  },
  {
   "cell_type": "code",
   "execution_count": 23,
   "metadata": {
    "collapsed": false
   },
   "outputs": [
    {
     "data": {
      "text/html": [
       "<div>\n",
       "<table border=\"1\" class=\"dataframe\">\n",
       "  <thead>\n",
       "    <tr style=\"text-align: right;\">\n",
       "      <th></th>\n",
       "      <th>date</th>\n",
       "      <th>home_team</th>\n",
       "      <th>away_team</th>\n",
       "      <th>home_score</th>\n",
       "      <th>away_score</th>\n",
       "      <th>tournament</th>\n",
       "      <th>city</th>\n",
       "      <th>country</th>\n",
       "      <th>neutral</th>\n",
       "      <th>winning_team</th>\n",
       "      <th>goal_difference</th>\n",
       "      <th>match_year</th>\n",
       "    </tr>\n",
       "  </thead>\n",
       "  <tbody>\n",
       "    <tr>\n",
       "      <th>0</th>\n",
       "      <td>1930-01-01</td>\n",
       "      <td>Spain</td>\n",
       "      <td>Czechoslovakia</td>\n",
       "      <td>1</td>\n",
       "      <td>0</td>\n",
       "      <td>Friendly</td>\n",
       "      <td>Barcelona</td>\n",
       "      <td>Spain</td>\n",
       "      <td>False</td>\n",
       "      <td>2</td>\n",
       "      <td>1</td>\n",
       "      <td>1930</td>\n",
       "    </tr>\n",
       "    <tr>\n",
       "      <th>1</th>\n",
       "      <td>1930-01-12</td>\n",
       "      <td>Portugal</td>\n",
       "      <td>Czechoslovakia</td>\n",
       "      <td>1</td>\n",
       "      <td>0</td>\n",
       "      <td>Friendly</td>\n",
       "      <td>Lisbon</td>\n",
       "      <td>Portugal</td>\n",
       "      <td>False</td>\n",
       "      <td>2</td>\n",
       "      <td>1</td>\n",
       "      <td>1930</td>\n",
       "    </tr>\n",
       "    <tr>\n",
       "      <th>2</th>\n",
       "      <td>1930-02-23</td>\n",
       "      <td>Portugal</td>\n",
       "      <td>France</td>\n",
       "      <td>2</td>\n",
       "      <td>0</td>\n",
       "      <td>Friendly</td>\n",
       "      <td>Porto</td>\n",
       "      <td>Portugal</td>\n",
       "      <td>False</td>\n",
       "      <td>2</td>\n",
       "      <td>2</td>\n",
       "      <td>1930</td>\n",
       "    </tr>\n",
       "    <tr>\n",
       "      <th>3</th>\n",
       "      <td>1930-03-23</td>\n",
       "      <td>France</td>\n",
       "      <td>Switzerland</td>\n",
       "      <td>3</td>\n",
       "      <td>3</td>\n",
       "      <td>Friendly</td>\n",
       "      <td>Colombes</td>\n",
       "      <td>France</td>\n",
       "      <td>False</td>\n",
       "      <td>1</td>\n",
       "      <td>0</td>\n",
       "      <td>1930</td>\n",
       "    </tr>\n",
       "    <tr>\n",
       "      <th>4</th>\n",
       "      <td>1930-04-05</td>\n",
       "      <td>England</td>\n",
       "      <td>Scotland</td>\n",
       "      <td>5</td>\n",
       "      <td>2</td>\n",
       "      <td>British Championship</td>\n",
       "      <td>London</td>\n",
       "      <td>England</td>\n",
       "      <td>False</td>\n",
       "      <td>2</td>\n",
       "      <td>3</td>\n",
       "      <td>1930</td>\n",
       "    </tr>\n",
       "  </tbody>\n",
       "</table>\n",
       "</div>"
      ],
      "text/plain": [
       "         date home_team       away_team  home_score  away_score  \\\n",
       "0  1930-01-01     Spain  Czechoslovakia           1           0   \n",
       "1  1930-01-12  Portugal  Czechoslovakia           1           0   \n",
       "2  1930-02-23  Portugal          France           2           0   \n",
       "3  1930-03-23    France     Switzerland           3           3   \n",
       "4  1930-04-05   England        Scotland           5           2   \n",
       "\n",
       "             tournament       city   country neutral winning_team  \\\n",
       "0              Friendly  Barcelona     Spain   False            2   \n",
       "1              Friendly     Lisbon  Portugal   False            2   \n",
       "2              Friendly      Porto  Portugal   False            2   \n",
       "3              Friendly   Colombes    France   False            1   \n",
       "4  British Championship     London   England   False            2   \n",
       "\n",
       "   goal_difference  match_year  \n",
       "0                1        1930  \n",
       "1                1        1930  \n",
       "2                2        1930  \n",
       "3                0        1930  \n",
       "4                3        1930  "
      ]
     },
     "execution_count": 23,
     "metadata": {},
     "output_type": "execute_result"
    }
   ],
   "source": [
    "df_fifa_world_cup = df_fifa_world_cup.reset_index(drop=True)\n",
    "df_fifa_world_cup.loc[df_fifa_world_cup.winning_team == df_fifa_world_cup.home_team, 'winning_team']= 2\n",
    "df_fifa_world_cup.loc[df_fifa_world_cup.winning_team == 'Tie', 'winning_team']= 1\n",
    "df_fifa_world_cup.loc[df_fifa_world_cup.winning_team == df_fifa_world_cup.away_team, 'winning_team']= 0\n",
    "\n",
    "df_fifa_world_cup.head()"
   ]
  },
  {
   "cell_type": "markdown",
   "metadata": {},
   "source": [
    "We will now set some dummies for the home_team and away_team variables, because otherwise we wouldn't be able to deploy a scikit-learn model on the dataset, since they are presented as categorical variables."
   ]
  },
  {
   "cell_type": "code",
   "execution_count": 31,
   "metadata": {
    "collapsed": true
   },
   "outputs": [],
   "source": [
    "from sklearn.model_selection import train_test_split\n",
    "\n",
    "# Get dummy variables\n",
    "final = pd.get_dummies(df_teams30, prefix=['home_team', 'away_team'], columns=['home_team', 'away_team'])\n",
    "\n",
    "# joining dummy with actual df \n",
    "#final = pd.concat([final,df_teams30.iloc[:,2:4]],axis=1)"
   ]
  },
  {
   "cell_type": "code",
   "execution_count": 32,
   "metadata": {
    "collapsed": true
   },
   "outputs": [],
   "source": [
    "# Separate X and y sets\n",
    "X = final.drop(['winning_team'], axis=1)\n",
    "y = final[\"winning_team\"]\n",
    "y = y.astype('int')\n",
    "\n",
    "# Separate train and test sets\n",
    "X_train, X_test, y_train, y_test = train_test_split(X, y, test_size=0.20, random_state=42)"
   ]
  },
  {
   "cell_type": "code",
   "execution_count": 33,
   "metadata": {
    "collapsed": false,
    "scrolled": true
   },
   "outputs": [
    {
     "data": {
      "text/plain": [
       "((8874, 309), (8874,))"
      ]
     },
     "execution_count": 33,
     "metadata": {},
     "output_type": "execute_result"
    }
   ],
   "source": [
    "X_train.shape,y_train.shape"
   ]
  },
  {
   "cell_type": "markdown",
   "metadata": {},
   "source": [
    "# Trying different models to check for better accuracy "
   ]
  },
  {
   "cell_type": "code",
   "execution_count": 34,
   "metadata": {
    "collapsed": true
   },
   "outputs": [],
   "source": [
    "from sklearn.model_selection import StratifiedShuffleSplit\n",
    "from sklearn.metrics import accuracy_score, log_loss\n",
    "from sklearn.neighbors import KNeighborsClassifier\n",
    "from sklearn.svm import SVC\n",
    "from sklearn.tree import DecisionTreeClassifier\n",
    "from sklearn.ensemble import RandomForestClassifier, AdaBoostClassifier, GradientBoostingClassifier\n",
    "from sklearn.naive_bayes import GaussianNB\n",
    "from sklearn.discriminant_analysis import LinearDiscriminantAnalysis, QuadraticDiscriminantAnalysis\n",
    "from sklearn.linear_model import LogisticRegression\n",
    "from sklearn.neural_network import MLPClassifier"
   ]
  },
  {
   "cell_type": "code",
   "execution_count": 35,
   "metadata": {
    "collapsed": false
   },
   "outputs": [
    {
     "name": "stderr",
     "output_type": "stream",
     "text": [
      "C:\\ProgramData\\Anaconda3\\lib\\site-packages\\sklearn\\discriminant_analysis.py:387: UserWarning: Variables are collinear.\n",
      "  warnings.warn(\"Variables are collinear.\")\n",
      "C:\\ProgramData\\Anaconda3\\lib\\site-packages\\sklearn\\discriminant_analysis.py:695: UserWarning: Variables are collinear\n",
      "  warnings.warn(\"Variables are collinear\")\n"
     ]
    },
    {
     "data": {
      "text/plain": [
       "<matplotlib.axes._subplots.AxesSubplot at 0x1d5b6ffb860>"
      ]
     },
     "execution_count": 35,
     "metadata": {},
     "output_type": "execute_result"
    }
   ],
   "source": [
    "classifiers = [\n",
    "    KNeighborsClassifier(3),\n",
    "    SVC(probability=True,degree=2),\n",
    "    DecisionTreeClassifier(),\n",
    "    RandomForestClassifier(),\n",
    "    AdaBoostClassifier(),\n",
    "    GradientBoostingClassifier(),\n",
    "    GaussianNB(),\n",
    "    LinearDiscriminantAnalysis(),\n",
    "    QuadraticDiscriminantAnalysis(),\n",
    "    LogisticRegression(),\n",
    "    MLPClassifier(hidden_layer_sizes=(20,10))]\n",
    "\n",
    "\n",
    "log_cols = [\"Classifier\", \"Accuracy\"]\n",
    "log = pd.DataFrame(columns=log_cols)\n",
    "\n",
    "acc_dict = {}\n",
    "\n",
    "# Loop to do fit and predictions of each classifier into the dataset\n",
    "for clf in classifiers:\n",
    "    name = clf.__class__.__name__\n",
    "    clf.fit(X_train, y_train)\n",
    "    train_predictions = clf.predict(X_test)\n",
    "    acc = accuracy_score(y_test, train_predictions)\n",
    "    \n",
    "    # Storing each score into a dict\n",
    "    if name in acc_dict:\n",
    "        acc_dict[name] += acc\n",
    "    else:\n",
    "        acc_dict[name] = acc\n",
    "\n",
    "# Storing the results in a DataFrame to be visualized\n",
    "for clf in acc_dict:\n",
    "    acc_dict[clf] = acc_dict[clf] / 10.0\n",
    "    log_entry = pd.DataFrame([[clf, acc_dict[clf]]], columns=log_cols)\n",
    "    log = log.append(log_entry)\n",
    "\n",
    "plt.xlabel('Accuracy')\n",
    "plt.title('Classifier Accuracy')\n",
    "\n",
    "sns.set_color_codes(\"muted\")\n",
    "sns.barplot(x='Accuracy', y='Classifier', data=log, color=\"b\")"
   ]
  },
  {
   "cell_type": "code",
   "execution_count": 36,
   "metadata": {
    "collapsed": false
   },
   "outputs": [
    {
     "name": "stdout",
     "output_type": "stream",
     "text": [
      "Training set accuracy:  0.577\n",
      "Test set accuracy:  0.558\n"
     ]
    }
   ],
   "source": [
    "# Because the Logistic regression is performing well so we are Choosing Logistic regression as our final model .\n",
    "logreg = LogisticRegression()\n",
    "logreg.fit(X_train, y_train)\n",
    "score = logreg.score(X_train, y_train)\n",
    "score2 = logreg.score(X_test, y_test)\n",
    "\n",
    "print(\"Training set accuracy: \", '%.3f'%(score))\n",
    "print(\"Test set accuracy: \", '%.3f'%(score2))"
   ]
  },
  {
   "cell_type": "code",
   "execution_count": 37,
   "metadata": {
    "collapsed": false
   },
   "outputs": [
    {
     "data": {
      "text/plain": [
       "<matplotlib.axes._subplots.AxesSubplot at 0x1d5b6ffb860>"
      ]
     },
     "execution_count": 37,
     "metadata": {},
     "output_type": "execute_result"
    }
   ],
   "source": [
    "sns.countplot(x='winning_team', data=df_teams30)"
   ]
  },
  {
   "cell_type": "code",
   "execution_count": 38,
   "metadata": {
    "collapsed": false
   },
   "outputs": [
    {
     "ename": "FileNotFoundError",
     "evalue": "File b'data/fifa_rankings.csv' does not exist",
     "output_type": "error",
     "traceback": [
      "\u001b[0;31m---------------------------------------------------------------------------\u001b[0m",
      "\u001b[0;31mFileNotFoundError\u001b[0m                         Traceback (most recent call last)",
      "\u001b[0;32m<ipython-input-38-fbfbbd825bfd>\u001b[0m in \u001b[0;36m<module>\u001b[0;34m()\u001b[0m\n\u001b[1;32m      1\u001b[0m \u001b[1;31m# Loading new datasets\u001b[0m\u001b[1;33m\u001b[0m\u001b[1;33m\u001b[0m\u001b[0m\n\u001b[0;32m----> 2\u001b[0;31m \u001b[0mranking\u001b[0m \u001b[1;33m=\u001b[0m \u001b[0mpd\u001b[0m\u001b[1;33m.\u001b[0m\u001b[0mread_csv\u001b[0m\u001b[1;33m(\u001b[0m\u001b[1;34m'data/fifa_rankings.csv'\u001b[0m\u001b[1;33m)\u001b[0m\u001b[1;33m\u001b[0m\u001b[0m\n\u001b[0m\u001b[1;32m      3\u001b[0m \u001b[0mfixtures\u001b[0m \u001b[1;33m=\u001b[0m \u001b[0mpd\u001b[0m\u001b[1;33m.\u001b[0m\u001b[0mread_csv\u001b[0m\u001b[1;33m(\u001b[0m\u001b[1;34m'data/fixtures.csv'\u001b[0m\u001b[1;33m)\u001b[0m\u001b[1;33m\u001b[0m\u001b[0m\n\u001b[1;32m      4\u001b[0m \u001b[1;33m\u001b[0m\u001b[0m\n\u001b[1;32m      5\u001b[0m \u001b[1;33m\u001b[0m\u001b[0m\n",
      "\u001b[0;32mC:\\ProgramData\\Anaconda3\\lib\\site-packages\\pandas\\io\\parsers.py\u001b[0m in \u001b[0;36mparser_f\u001b[0;34m(filepath_or_buffer, sep, delimiter, header, names, index_col, usecols, squeeze, prefix, mangle_dupe_cols, dtype, engine, converters, true_values, false_values, skipinitialspace, skiprows, nrows, na_values, keep_default_na, na_filter, verbose, skip_blank_lines, parse_dates, infer_datetime_format, keep_date_col, date_parser, dayfirst, iterator, chunksize, compression, thousands, decimal, lineterminator, quotechar, quoting, escapechar, comment, encoding, dialect, tupleize_cols, error_bad_lines, warn_bad_lines, skipfooter, skip_footer, doublequote, delim_whitespace, as_recarray, compact_ints, use_unsigned, low_memory, buffer_lines, memory_map, float_precision)\u001b[0m\n\u001b[1;32m    644\u001b[0m                     skip_blank_lines=skip_blank_lines)\n\u001b[1;32m    645\u001b[0m \u001b[1;33m\u001b[0m\u001b[0m\n\u001b[0;32m--> 646\u001b[0;31m         \u001b[1;32mreturn\u001b[0m \u001b[0m_read\u001b[0m\u001b[1;33m(\u001b[0m\u001b[0mfilepath_or_buffer\u001b[0m\u001b[1;33m,\u001b[0m \u001b[0mkwds\u001b[0m\u001b[1;33m)\u001b[0m\u001b[1;33m\u001b[0m\u001b[0m\n\u001b[0m\u001b[1;32m    647\u001b[0m \u001b[1;33m\u001b[0m\u001b[0m\n\u001b[1;32m    648\u001b[0m     \u001b[0mparser_f\u001b[0m\u001b[1;33m.\u001b[0m\u001b[0m__name__\u001b[0m \u001b[1;33m=\u001b[0m \u001b[0mname\u001b[0m\u001b[1;33m\u001b[0m\u001b[0m\n",
      "\u001b[0;32mC:\\ProgramData\\Anaconda3\\lib\\site-packages\\pandas\\io\\parsers.py\u001b[0m in \u001b[0;36m_read\u001b[0;34m(filepath_or_buffer, kwds)\u001b[0m\n\u001b[1;32m    387\u001b[0m \u001b[1;33m\u001b[0m\u001b[0m\n\u001b[1;32m    388\u001b[0m     \u001b[1;31m# Create the parser.\u001b[0m\u001b[1;33m\u001b[0m\u001b[1;33m\u001b[0m\u001b[0m\n\u001b[0;32m--> 389\u001b[0;31m     \u001b[0mparser\u001b[0m \u001b[1;33m=\u001b[0m \u001b[0mTextFileReader\u001b[0m\u001b[1;33m(\u001b[0m\u001b[0mfilepath_or_buffer\u001b[0m\u001b[1;33m,\u001b[0m \u001b[1;33m**\u001b[0m\u001b[0mkwds\u001b[0m\u001b[1;33m)\u001b[0m\u001b[1;33m\u001b[0m\u001b[0m\n\u001b[0m\u001b[1;32m    390\u001b[0m \u001b[1;33m\u001b[0m\u001b[0m\n\u001b[1;32m    391\u001b[0m     \u001b[1;32mif\u001b[0m \u001b[1;33m(\u001b[0m\u001b[0mnrows\u001b[0m \u001b[1;32mis\u001b[0m \u001b[1;32mnot\u001b[0m \u001b[1;32mNone\u001b[0m\u001b[1;33m)\u001b[0m \u001b[1;32mand\u001b[0m \u001b[1;33m(\u001b[0m\u001b[0mchunksize\u001b[0m \u001b[1;32mis\u001b[0m \u001b[1;32mnot\u001b[0m \u001b[1;32mNone\u001b[0m\u001b[1;33m)\u001b[0m\u001b[1;33m:\u001b[0m\u001b[1;33m\u001b[0m\u001b[0m\n",
      "\u001b[0;32mC:\\ProgramData\\Anaconda3\\lib\\site-packages\\pandas\\io\\parsers.py\u001b[0m in \u001b[0;36m__init__\u001b[0;34m(self, f, engine, **kwds)\u001b[0m\n\u001b[1;32m    728\u001b[0m             \u001b[0mself\u001b[0m\u001b[1;33m.\u001b[0m\u001b[0moptions\u001b[0m\u001b[1;33m[\u001b[0m\u001b[1;34m'has_index_names'\u001b[0m\u001b[1;33m]\u001b[0m \u001b[1;33m=\u001b[0m \u001b[0mkwds\u001b[0m\u001b[1;33m[\u001b[0m\u001b[1;34m'has_index_names'\u001b[0m\u001b[1;33m]\u001b[0m\u001b[1;33m\u001b[0m\u001b[0m\n\u001b[1;32m    729\u001b[0m \u001b[1;33m\u001b[0m\u001b[0m\n\u001b[0;32m--> 730\u001b[0;31m         \u001b[0mself\u001b[0m\u001b[1;33m.\u001b[0m\u001b[0m_make_engine\u001b[0m\u001b[1;33m(\u001b[0m\u001b[0mself\u001b[0m\u001b[1;33m.\u001b[0m\u001b[0mengine\u001b[0m\u001b[1;33m)\u001b[0m\u001b[1;33m\u001b[0m\u001b[0m\n\u001b[0m\u001b[1;32m    731\u001b[0m \u001b[1;33m\u001b[0m\u001b[0m\n\u001b[1;32m    732\u001b[0m     \u001b[1;32mdef\u001b[0m \u001b[0mclose\u001b[0m\u001b[1;33m(\u001b[0m\u001b[0mself\u001b[0m\u001b[1;33m)\u001b[0m\u001b[1;33m:\u001b[0m\u001b[1;33m\u001b[0m\u001b[0m\n",
      "\u001b[0;32mC:\\ProgramData\\Anaconda3\\lib\\site-packages\\pandas\\io\\parsers.py\u001b[0m in \u001b[0;36m_make_engine\u001b[0;34m(self, engine)\u001b[0m\n\u001b[1;32m    921\u001b[0m     \u001b[1;32mdef\u001b[0m \u001b[0m_make_engine\u001b[0m\u001b[1;33m(\u001b[0m\u001b[0mself\u001b[0m\u001b[1;33m,\u001b[0m \u001b[0mengine\u001b[0m\u001b[1;33m=\u001b[0m\u001b[1;34m'c'\u001b[0m\u001b[1;33m)\u001b[0m\u001b[1;33m:\u001b[0m\u001b[1;33m\u001b[0m\u001b[0m\n\u001b[1;32m    922\u001b[0m         \u001b[1;32mif\u001b[0m \u001b[0mengine\u001b[0m \u001b[1;33m==\u001b[0m \u001b[1;34m'c'\u001b[0m\u001b[1;33m:\u001b[0m\u001b[1;33m\u001b[0m\u001b[0m\n\u001b[0;32m--> 923\u001b[0;31m             \u001b[0mself\u001b[0m\u001b[1;33m.\u001b[0m\u001b[0m_engine\u001b[0m \u001b[1;33m=\u001b[0m \u001b[0mCParserWrapper\u001b[0m\u001b[1;33m(\u001b[0m\u001b[0mself\u001b[0m\u001b[1;33m.\u001b[0m\u001b[0mf\u001b[0m\u001b[1;33m,\u001b[0m \u001b[1;33m**\u001b[0m\u001b[0mself\u001b[0m\u001b[1;33m.\u001b[0m\u001b[0moptions\u001b[0m\u001b[1;33m)\u001b[0m\u001b[1;33m\u001b[0m\u001b[0m\n\u001b[0m\u001b[1;32m    924\u001b[0m         \u001b[1;32melse\u001b[0m\u001b[1;33m:\u001b[0m\u001b[1;33m\u001b[0m\u001b[0m\n\u001b[1;32m    925\u001b[0m             \u001b[1;32mif\u001b[0m \u001b[0mengine\u001b[0m \u001b[1;33m==\u001b[0m \u001b[1;34m'python'\u001b[0m\u001b[1;33m:\u001b[0m\u001b[1;33m\u001b[0m\u001b[0m\n",
      "\u001b[0;32mC:\\ProgramData\\Anaconda3\\lib\\site-packages\\pandas\\io\\parsers.py\u001b[0m in \u001b[0;36m__init__\u001b[0;34m(self, src, **kwds)\u001b[0m\n\u001b[1;32m   1388\u001b[0m         \u001b[0mkwds\u001b[0m\u001b[1;33m[\u001b[0m\u001b[1;34m'allow_leading_cols'\u001b[0m\u001b[1;33m]\u001b[0m \u001b[1;33m=\u001b[0m \u001b[0mself\u001b[0m\u001b[1;33m.\u001b[0m\u001b[0mindex_col\u001b[0m \u001b[1;32mis\u001b[0m \u001b[1;32mnot\u001b[0m \u001b[1;32mFalse\u001b[0m\u001b[1;33m\u001b[0m\u001b[0m\n\u001b[1;32m   1389\u001b[0m \u001b[1;33m\u001b[0m\u001b[0m\n\u001b[0;32m-> 1390\u001b[0;31m         \u001b[0mself\u001b[0m\u001b[1;33m.\u001b[0m\u001b[0m_reader\u001b[0m \u001b[1;33m=\u001b[0m \u001b[0m_parser\u001b[0m\u001b[1;33m.\u001b[0m\u001b[0mTextReader\u001b[0m\u001b[1;33m(\u001b[0m\u001b[0msrc\u001b[0m\u001b[1;33m,\u001b[0m \u001b[1;33m**\u001b[0m\u001b[0mkwds\u001b[0m\u001b[1;33m)\u001b[0m\u001b[1;33m\u001b[0m\u001b[0m\n\u001b[0m\u001b[1;32m   1391\u001b[0m \u001b[1;33m\u001b[0m\u001b[0m\n\u001b[1;32m   1392\u001b[0m         \u001b[1;31m# XXX\u001b[0m\u001b[1;33m\u001b[0m\u001b[1;33m\u001b[0m\u001b[0m\n",
      "\u001b[0;32mpandas\\parser.pyx\u001b[0m in \u001b[0;36mpandas.parser.TextReader.__cinit__ (pandas\\parser.c:4184)\u001b[0;34m()\u001b[0m\n",
      "\u001b[0;32mpandas\\parser.pyx\u001b[0m in \u001b[0;36mpandas.parser.TextReader._setup_parser_source (pandas\\parser.c:8449)\u001b[0;34m()\u001b[0m\n",
      "\u001b[0;31mFileNotFoundError\u001b[0m: File b'data/fifa_rankings.csv' does not exist"
     ]
    }
   ],
   "source": [
    "# Loading new datasets\n",
    "ranking = pd.read_csv('data/fifa_rankings.csv') \n",
    "fixtures = pd.read_csv('data/fixtures.csv')\n",
    "\n",
    "\n",
    "pred_set = []"
   ]
  },
  {
   "cell_type": "code",
   "execution_count": null,
   "metadata": {
    "collapsed": false
   },
   "outputs": [],
   "source": [
    "# Create new columns with ranking position of each team\n",
    "fixtures.insert(1, 'first_position', fixtures['Home Team'].map(ranking.set_index('Team')['Position']))\n",
    "fixtures.insert(2, 'second_position', fixtures['Away Team'].map(ranking.set_index('Team')['Position']))\n",
    "\n",
    "# We only need the group stage games, so we have to slice the dataset\n",
    "fixtures = fixtures.iloc[:48, :]\n",
    "fixtures.tail()"
   ]
  },
  {
   "cell_type": "code",
   "execution_count": null,
   "metadata": {
    "collapsed": false
   },
   "outputs": [],
   "source": [
    "# Loop to add teams to new prediction dataset based on the ranking position of each team\n",
    "for index, row in fixtures.iterrows():\n",
    "    if row['first_position'] < row['second_position']:\n",
    "        pred_set.append({'home_team': row['Home Team'], 'away_team': row['Away Team'], 'winning_team': None})\n",
    "    else:\n",
    "        pred_set.append({'home_team': row['Away Team'], 'away_team': row['Home Team'], 'winning_team': None})\n",
    "        \n",
    "pred_set = pd.DataFrame(pred_set)\n",
    "backup_pred_set = pred_set\n",
    "\n",
    "pred_set.head()"
   ]
  },
  {
   "cell_type": "markdown",
   "metadata": {},
   "source": [
    "Great! Now we already have a clean dataset with all group stage games for the FIFA World Cup 2018. Now we will just need to create some dummy variables, and then deploy an ML model into this DF. We can start by using our Logistic Regression Model."
   ]
  },
  {
   "cell_type": "code",
   "execution_count": null,
   "metadata": {
    "collapsed": false
   },
   "outputs": [],
   "source": [
    "# Get dummy variables and drop winning_team column\n",
    "pred_set = pd.get_dummies(pred_set, prefix=['home_team', 'away_team'], columns=['home_team', 'away_team'])\n",
    "\n",
    "# Add missing columns compared to the model's training dataset\n",
    "missing_cols = set(final.columns) - set(pred_set.columns)\n",
    "for c in missing_cols:\n",
    "    pred_set[c] = 0\n",
    "pred_set = pred_set[final.columns]\n",
    "\n",
    "# Remove winning team column\n",
    "pred_set = pred_set.drop(['winning_team'], axis=1)\n",
    "\n",
    "pred_set.head()"
   ]
  },
  {
   "cell_type": "markdown",
   "metadata": {},
   "source": [
    "### 5) Deploying the model\n",
    "\n",
    "At last, it's time to deploy our model and start predicting the matches away. Let's go!"
   ]
  },
  {
   "cell_type": "code",
   "execution_count": null,
   "metadata": {
    "collapsed": false
   },
   "outputs": [],
   "source": [
    "predictions = logreg.predict(pred_set)\n",
    "for i in range(fixtures.shape[0]):\n",
    "    print(backup_pred_set.iloc[i, 1] + \" and \" + backup_pred_set.iloc[i, 0])\n",
    "    if predictions[i] == 2:\n",
    "        print(\"Winner: \" + backup_pred_set.iloc[i, 1])\n",
    "    elif predictions[i] == 1:\n",
    "        print(\"Tie\")\n",
    "    elif predictions[i] == 0:\n",
    "        print(\"Winner: \" + backup_pred_set.iloc[i, 0])\n",
    "    print('Probability of ' + backup_pred_set.iloc[i, 1] + ' winning: ', '%.3f'%(logreg.predict_proba(pred_set)[i][2]))\n",
    "    print('Probability of Tie: ', '%.3f'%(logreg.predict_proba(pred_set)[i][1]))\n",
    "    print('Probability of ' + backup_pred_set.iloc[i, 0] + ' winning: ', '%.3f'%(logreg.predict_proba(pred_set)[i][0]))\n",
    "    print(\"\")\n"
   ]
  },
  {
   "cell_type": "markdown",
   "metadata": {},
   "source": [
    "We'll have to separate the nations into 'home' teams and 'away' teams again. "
   ]
  },
  {
   "cell_type": "code",
   "execution_count": 39,
   "metadata": {
    "collapsed": true
   },
   "outputs": [],
   "source": [
    "# List of tuples before we arrange the teams in home and away\n",
    "group_16 = [\n",
    "            (\"Uruguay\", \"Portugal\"),\n",
    "            (\"France\", \"Argentina\"),\n",
    "            (\"Brazil\", \"Mexico\"),\n",
    "            (\"Belgium\", \"Japan\"),\n",
    "            (\"Spain\", \"Russia\"),\n",
    "            (\"Croatia\", \"Denmark\"),\n",
    "            (\"Sweden\", \"Switzerland\"),\n",
    "            (\"Colombia\",\"England\")]"
   ]
  },
  {
   "cell_type": "code",
   "execution_count": 44,
   "metadata": {
    "collapsed": true
   },
   "outputs": [],
   "source": [
    "def predict(matches, ranking, final, logreg):\n",
    "\n",
    "    # Initialization of auxiliary list for data cleaning\n",
    "    positions = []\n",
    "\n",
    "    # Loop to retrieve each team's position according to FIFA ranking\n",
    "    for match in matches:\n",
    "        positions.append(ranking.loc[ranking['Team'] == match[0],'Position'].iloc[0])\n",
    "        positions.append(ranking.loc[ranking['Team'] == match[1],'Position'].iloc[0])\n",
    "    \n",
    "    # Creating the DataFrame for prediction\n",
    "    pred_set = []\n",
    "\n",
    "    # Initializing iterators for while loop\n",
    "    i = 0\n",
    "    j = 0\n",
    "\n",
    "    # 'i' will be the iterator for the 'positions' list, and 'j' for the list of matches (list of tuples)\n",
    "    while i < len(positions):\n",
    "        dict1 = {}\n",
    "\n",
    "        # If position of first team is better, he will be the 'home' team, and vice-versa\n",
    "        if positions[i] < positions[i + 1]:\n",
    "            dict1.update({'home_team': matches[j][0], 'away_team': matches[j][1]})\n",
    "        else:\n",
    "            dict1.update({'home_team': matches[j][1], 'away_team': matches[j][0]})\n",
    "\n",
    "        # Append updated dictionary to the list, that will later be converted into a DataFrame\n",
    "        pred_set.append(dict1)\n",
    "        i += 2\n",
    "        j += 1\n",
    "\n",
    "    # Convert list into DataFrame\n",
    "    pred_set = pd.DataFrame(pred_set)\n",
    "    backup_pred_set = pred_set\n",
    "\n",
    "    # Get dummy variables and drop winning_team column\n",
    "    pred_set = pd.get_dummies(pred_set, prefix=['home_team', 'away_team'], columns=['home_team', 'away_team'])\n",
    "\n",
    "    # Add missing columns compared to the model's training dataset\n",
    "    missing_cols2 = set(final.columns) - set(pred_set.columns)\n",
    "    for c in missing_cols2:\n",
    "        pred_set[c] = 0\n",
    "    pred_set = pred_set[final.columns]\n",
    "\n",
    "    # Remove winning team column\n",
    "    pred_set = pred_set.drop(['winning_team'], axis=1)\n",
    "\n",
    "    # Predict!\n",
    "    predictions = logreg.predict(pred_set)\n",
    "    for i in range(len(pred_set)):\n",
    "        print(backup_pred_set.iloc[i, 1] + \" and \" + backup_pred_set.iloc[i, 0])\n",
    "        if predictions[i] == 2:\n",
    "            print(\"Winner: \" + backup_pred_set.iloc[i, 1])\n",
    "        elif predictions[i] == 1:\n",
    "            print(\"Tie\")\n",
    "        elif predictions[i] == 0:\n",
    "            print(\"Winner: \" + backup_pred_set.iloc[i, 0])  \n",
    "        print(\" \")"
   ]
  },
  {
   "cell_type": "code",
   "execution_count": 45,
   "metadata": {
    "collapsed": false
   },
   "outputs": [
    {
     "name": "stdout",
     "output_type": "stream",
     "text": [
      "Portugal and Uruguay\n",
      "Winner: Portugal\n",
      " \n",
      "Argentina and France\n",
      "Winner: Argentina\n",
      " \n",
      "Brazil and Mexico\n",
      "Winner: Brazil\n",
      " \n",
      "Belgium and Japan\n",
      "Winner: Belgium\n",
      " \n",
      "Spain and Russia\n",
      "Winner: Spain\n",
      " \n",
      "Denmark and Croatia\n",
      "Winner: Croatia\n",
      " \n",
      "Switzerland and Sweden\n",
      "Winner: Switzerland\n",
      " \n",
      "England and Colombia\n",
      "Winner: England\n",
      " \n"
     ]
    }
   ],
   "source": [
    "predict(group_16, ranking, final, logreg)"
   ]
  },
  {
   "cell_type": "code",
   "execution_count": 46,
   "metadata": {
    "collapsed": true
   },
   "outputs": [],
   "source": [
    "# List of matches\n",
    "quarters = [('Brazil', 'Belgium'),\n",
    "            ('Portugal', 'Argentina'),\n",
    "            ('Croatia', 'Spain'),\n",
    "            ('Sweden', 'England')]"
   ]
  },
  {
   "cell_type": "code",
   "execution_count": 47,
   "metadata": {
    "collapsed": false
   },
   "outputs": [
    {
     "name": "stdout",
     "output_type": "stream",
     "text": [
      "Brazil and Belgium\n",
      "Winner: Brazil\n",
      " \n",
      "Portugal and Argentina\n",
      "Winner: Portugal\n",
      " \n",
      "Spain and Croatia\n",
      "Winner: Spain\n",
      " \n",
      "England and Sweden\n",
      "Winner: England\n",
      " \n"
     ]
    }
   ],
   "source": [
    "predict(quarters, ranking, final, logreg)"
   ]
  },
  {
   "cell_type": "markdown",
   "metadata": {},
   "source": [
    "** THE SEMI FINALISTS"
   ]
  },
  {
   "cell_type": "code",
   "execution_count": 48,
   "metadata": {
    "collapsed": true
   },
   "outputs": [],
   "source": [
    "# List of matches\n",
    "semi = [('Spain', 'England'),\n",
    "        ('Brazil', 'Portugal')]"
   ]
  },
  {
   "cell_type": "code",
   "execution_count": 49,
   "metadata": {
    "collapsed": false
   },
   "outputs": [
    {
     "name": "stdout",
     "output_type": "stream",
     "text": [
      "Spain and England\n",
      "Winner: Spain\n",
      " \n",
      "Brazil and Portugal\n",
      "Winner: Brazil\n",
      " \n"
     ]
    }
   ],
   "source": [
    "predict(semi, ranking, final, logreg)"
   ]
  },
  {
   "cell_type": "markdown",
   "metadata": {},
   "source": [
    "** THE FINAL"
   ]
  },
  {
   "cell_type": "code",
   "execution_count": 50,
   "metadata": {
    "collapsed": true
   },
   "outputs": [],
   "source": [
    "# The big game\n",
    "finals = [('Spain', 'Brazil')]"
   ]
  },
  {
   "cell_type": "code",
   "execution_count": 51,
   "metadata": {
    "collapsed": false
   },
   "outputs": [
    {
     "name": "stdout",
     "output_type": "stream",
     "text": [
      "Brazil and Spain\n",
      "Winner: Brazil\n",
      " \n"
     ]
    }
   ],
   "source": [
    "predict(finals, ranking, final, logreg)"
   ]
  },
  {
   "cell_type": "markdown",
   "metadata": {},
   "source": [
    "According to the model winner is Brazil"
   ]
  }
 ],
 "metadata": {
  "kernelspec": {
   "display_name": "Python 3",
   "language": "python",
   "name": "python3"
  },
  "language_info": {
   "codemirror_mode": {
    "name": "ipython",
    "version": 3
   },
   "file_extension": ".py",
   "mimetype": "text/x-python",
   "name": "python",
   "nbconvert_exporter": "python",
   "pygments_lexer": "ipython3",
   "version": "3.6.0"
  }
 },
 "nbformat": 4,
 "nbformat_minor": 2
}
